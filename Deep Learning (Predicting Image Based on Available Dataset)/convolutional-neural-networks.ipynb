{
 "cells": [
  {
   "cell_type": "code",
   "execution_count": 62,
   "metadata": {},
   "outputs": [],
   "source": [
    "# Import Library\n",
    "import os\n",
    "import random\n",
    "import matplotlib.pyplot as plt\n",
    "\n",
    "from keras.utils import load_img\n",
    "import numpy as np\n",
    "\n",
    "# Split data\n",
    "from sklearn.model_selection import train_test_split\n",
    "\n",
    "# Model \n",
    "from keras import Sequential\n",
    "\n",
    "# Layer\n",
    "from keras.layers import Conv2D, MaxPooling2D, Flatten, Input, Dense, Dropout"
   ]
  },
  {
   "cell_type": "code",
   "execution_count": 63,
   "metadata": {},
   "outputs": [
    {
     "name": "stdout",
     "output_type": "stream",
     "text": [
      "['ace of diamonds', 'five of spades', 'jack of hearts', 'six of diamonds']\n"
     ]
    }
   ],
   "source": [
    "PATH = './dataset/kartu/'\n",
    "dataset = []\n",
    "\n",
    "class_names = [name for name in os.listdir(PATH)]\n",
    "print(class_names)\n",
    "\n",
    "# Sekarang kita mau mengambil gambar satu persatu dan memasukkannya kedalam dataset\n",
    "for i, class_name in enumerate(class_names):\n",
    "    image_path = f'./dataset/kartu/{class_name}/'\n",
    "    for image_name in os.listdir(image_path):\n",
    "        image = load_img(image_path + image_name, color_mode = 'grayscale', target_size = (224, 224))\n",
    "        \n",
    "        # Mengambil image dari path yang sudah kita define\n",
    "        image_arr = np.array(image)\n",
    "        dataset.append((image_arr, i))\n",
    "\n",
    "# print(dataset.shape())\n",
    "random.shuffle(dataset)\n",
    "X = [data[0] for data in dataset]\n",
    "y = [data[1] for data in dataset]\n",
    "\n",
    "X = np.array(X)\n",
    "y = np.array(y)\n",
    "\n",
    "# Di model inputnya adalah (224, 224, 1), maka kita harus melakukan reshape (224, 224, 1)\n",
    "X = X.reshape(X.shape[0], X.shape[1], X.shape[2], 1).astype('float64')\n",
    "\n",
    "# Melakukan Normalisasi\n",
    "X /= 255"
   ]
  },
  {
   "cell_type": "code",
   "execution_count": 64,
   "metadata": {},
   "outputs": [],
   "source": [
    "# Splitting data -> Train : Test : Validation -> 8 : 1 : 1\n",
    "\n",
    "X_train, X_temp, y_train, y_temp = train_test_split(X, y, train_size = 0.8, random_state = 44)\n",
    "X_test, X_val, y_test, y_val = train_test_split(X_temp, y_temp, train_size = 0.5, random_state = 44)"
   ]
  },
  {
   "cell_type": "code",
   "execution_count": 57,
   "metadata": {},
   "outputs": [],
   "source": [
    "# Pembuatan Model CNN\n",
    "model = Sequential()\n",
    "model.add(Input(shape = (224, 224, 1)))\n",
    "\n",
    "# Convolution Layer 1\n",
    "model.add(Conv2D(filters = 64, kernel_size = (5, 5), activation = 'relu'))\n",
    "\n",
    "# Max pooling layer 1\n",
    "model.add(MaxPooling2D(2, 2))\n",
    "\n",
    "# Convolution Layer 2\n",
    "model.add(Conv2D(filters = 32, kernel_size = (5, 5), activation = 'relu'))\n",
    "\n",
    "# Max pooling layer 2\n",
    "model.add(MaxPooling2D(2, 2))\n",
    "\n",
    "# Flattenning\n",
    "model.add(Flatten())\n",
    "\n",
    "# Fully Connection Layer\n",
    "model.add(Dense(units = 100, activation = 'relu'))\n",
    "model.add(Dense(units = len(class_names), activation = 'softmax'))\n"
   ]
  },
  {
   "cell_type": "code",
   "execution_count": 65,
   "metadata": {},
   "outputs": [
    {
     "name": "stdout",
     "output_type": "stream",
     "text": [
      "Epoch 1/3\n",
      "15/15 [==============================] - 21s 1s/step - loss: 0.9021 - accuracy: 0.7962 - val_loss: 0.3038 - val_accuracy: 0.9153\n",
      "Epoch 2/3\n",
      "15/15 [==============================] - 21s 1s/step - loss: 0.3250 - accuracy: 0.9002 - val_loss: 0.2569 - val_accuracy: 0.9322\n",
      "Epoch 3/3\n",
      "15/15 [==============================] - 21s 1s/step - loss: 0.1852 - accuracy: 0.9512 - val_loss: 0.2096 - val_accuracy: 0.8814\n"
     ]
    }
   ],
   "source": [
    "# Compile model and training dataset\n",
    "model.compile(optimizer = 'adam', loss = 'sparse_categorical_crossentropy', metrics = ['accuracy'])\n",
    "history = model.fit(X_train, y_train, batch_size = 32, epochs = 3, validation_data = (X_val, y_val))"
   ]
  },
  {
   "cell_type": "code",
   "execution_count": 66,
   "metadata": {},
   "outputs": [
    {
     "name": "stdout",
     "output_type": "stream",
     "text": [
      "2/2 [==============================] - 0s 179ms/step - loss: 0.3496 - accuracy: 0.8983\n",
      "Accuracy :  0.8983050584793091\n",
      "Loss :  0.34963086247444153\n"
     ]
    }
   ],
   "source": [
    "# Evaluating model\n",
    "loss, acc = model.evaluate(X_test, y_test)\n",
    "print('Accuracy : ', acc)\n",
    "print('Loss : ', loss)"
   ]
  },
  {
   "cell_type": "code",
   "execution_count": 69,
   "metadata": {},
   "outputs": [
    {
     "name": "stdout",
     "output_type": "stream",
     "text": [
      "1/1 [==============================] - 0s 94ms/step\n",
      "[[1.8862629e-08 1.0000000e+00 1.3734623e-12 5.6235072e-11]]\n",
      "five of spades\n",
      "1/1 [==============================] - 0s 29ms/step\n",
      "[[0.78237736 0.21255115 0.00143288 0.00363856]]\n",
      "ace of diamonds\n"
     ]
    },
    {
     "data": {
      "image/png": "[encoded data removed]",
      "text/plain": [
       "<Figure size 640x480 with 2 Axes>"
      ]
     },
     "metadata": {},
     "output_type": "display_data"
    }
   ],
   "source": [
    "# Plotting Testing\n",
    "# print(history.history['accuracy'])\n",
    "\n",
    "# Prediction Data\n",
    "single_names = ['002.jpg', '014.jpg']\n",
    "\n",
    "for i, name in enumerate(single_names):\n",
    "    path = './dataset/single/' + name\n",
    "    img = load_img(path, color_mode = 'grayscale', target_size = (224, 224))\n",
    "    img_arr = np.array(img)\n",
    "    img_arr = img_arr.reshape(1, 224, 224, 1).astype('float64')\n",
    "    img_arr /= 255\n",
    "\n",
    "    prediction_res = model.predict(img_arr)\n",
    "    print(prediction_res)\n",
    "    res_index = np.argmax(prediction_res)\n",
    "    print(class_names[res_index])\n",
    "\n",
    "    plt.subplot(3, 3, i + 1)\n",
    "    plt.imshow(img, cmap = 'gray')\n",
    "    plt.title(class_names[res_index])"
   ]
  }
 ],
 "metadata": {
  "kernelspec": {
   "display_name": "deep_learning",
   "language": "python",
   "name": "python3"
  },
  "language_info": {
   "codemirror_mode": {
    "name": "ipython",
    "version": 3
   },
   "file_extension": ".py",
   "mimetype": "text/x-python",
   "name": "python",
   "nbconvert_exporter": "python",
   "pygments_lexer": "ipython3",
   "version": "3.10.9"
  },
  "orig_nbformat": 4
 },
 "nbformat": 4,
 "nbformat_minor": 2
}
